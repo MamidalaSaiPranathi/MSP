{
  "nbformat": 4,
  "nbformat_minor": 0,
  "metadata": {
    "colab": {
      "provenance": [],
      "authorship_tag": "ABX9TyORbwirjEqHWQKQ+vlsIReK",
      "include_colab_link": true
    },
    "kernelspec": {
      "name": "python3",
      "display_name": "Python 3"
    },
    "language_info": {
      "name": "python"
    }
  },
  "cells": [
    {
      "cell_type": "markdown",
      "metadata": {
        "id": "view-in-github",
        "colab_type": "text"
      },
      "source": [
        "<a href=\"https://colab.research.google.com/github/MamidalaSaiPranathi/MSP/blob/lab2/module1_lab_2.ipynb\" target=\"_parent\"><img src=\"https://colab.research.google.com/assets/colab-badge.svg\" alt=\"Open In Colab\"/></a>"
      ]
    },
    {
      "cell_type": "code",
      "source": [
        "import numpy as np\n",
        "from sklearn import datasets\n",
        "import matplotlib.pyplot as plt\n",
        "\n",
        "rng = np.random.default_rng(seed=42)"
      ],
      "metadata": {
        "id": "SRvsG9oo5Ylx"
      },
      "execution_count": null,
      "outputs": []
    },
    {
      "cell_type": "code",
      "source": [
        "dataset = datasets.fetch_california_housing()\n",
        "# Dataset description\n",
        "print(dataset.DESCR)"
      ],
      "metadata": {
        "colab": {
          "base_uri": "https://localhost:8080/"
        },
        "id": "A-Pt_pMK6DCZ",
        "outputId": "d8f33bcf-ba2c-435b-ba56-32c3f9ff3b98"
      },
      "execution_count": null,
      "outputs": [
        {
          "output_type": "stream",
          "name": "stdout",
          "text": [
            ".. _california_housing_dataset:\n",
            "\n",
            "California Housing dataset\n",
            "--------------------------\n",
            "\n",
            "**Data Set Characteristics:**\n",
            "\n",
            ":Number of Instances: 20640\n",
            "\n",
            ":Number of Attributes: 8 numeric, predictive attributes and the target\n",
            "\n",
            ":Attribute Information:\n",
            "    - MedInc        median income in block group\n",
            "    - HouseAge      median house age in block group\n",
            "    - AveRooms      average number of rooms per household\n",
            "    - AveBedrms     average number of bedrooms per household\n",
            "    - Population    block group population\n",
            "    - AveOccup      average number of household members\n",
            "    - Latitude      block group latitude\n",
            "    - Longitude     block group longitude\n",
            "\n",
            ":Missing Attribute Values: None\n",
            "\n",
            "This dataset was obtained from the StatLib repository.\n",
            "https://www.dcc.fc.up.pt/~ltorgo/Regression/cal_housing.html\n",
            "\n",
            "The target variable is the median house value for California districts,\n",
            "expressed in hundreds of thousands of dollars ($100,000).\n",
            "\n",
            "This dataset was derived from the 1990 U.S. census, using one row per census\n",
            "block group. A block group is the smallest geographical unit for which the U.S.\n",
            "Census Bureau publishes sample data (a block group typically has a population\n",
            "of 600 to 3,000 people).\n",
            "\n",
            "A household is a group of people residing within a home. Since the average\n",
            "number of rooms and bedrooms in this dataset are provided per household, these\n",
            "columns may take surprisingly large values for block groups with few households\n",
            "and many empty houses, such as vacation resorts.\n",
            "\n",
            "It can be downloaded/loaded using the\n",
            ":func:`sklearn.datasets.fetch_california_housing` function.\n",
            "\n",
            ".. rubric:: References\n",
            "\n",
            "- Pace, R. Kelley and Ronald Barry, Sparse Spatial Autoregressions,\n",
            "  Statistics and Probability Letters, 33 (1997) 291-297\n",
            "\n"
          ]
        }
      ]
    },
    {
      "cell_type": "code",
      "source": [
        "print(\"Orignal target values:\", dataset.target)\n",
        "\n",
        "dataset.target = dataset.target.astype(int)\n",
        "\n",
        "print(\"Target values after conversion:\", dataset.target)\n",
        "print(\"Input variables shape:\", dataset.data.shape)\n",
        "print(\"Output variables shape:\", dataset.target.shape)"
      ],
      "metadata": {
        "colab": {
          "base_uri": "https://localhost:8080/"
        },
        "id": "oBf5U67i6K-h",
        "outputId": "f59bf14c-2345-4619-ae2d-30e940469b74"
      },
      "execution_count": null,
      "outputs": [
        {
          "output_type": "stream",
          "name": "stdout",
          "text": [
            "Orignal target values: [4.526 3.585 3.521 ... 0.923 0.847 0.894]\n",
            "Target values after conversion: [4 3 3 ... 0 0 0]\n",
            "Input variables shape: (20640, 8)\n",
            "Output variables shape: (20640,)\n"
          ]
        }
      ]
    },
    {
      "cell_type": "code",
      "source": [
        "import numpy as np\n",
        "from sklearn.model_selection import train_test_split\n",
        "from sklearn.datasets import load_iris\n",
        "from sklearn.neighbors import KNeighborsClassifier\n",
        "from sklearn.metrics import accuracy_score\n",
        "\n",
        "# Load the Iris dataset\n",
        "data = load_iris()\n",
        "X = data.data\n",
        "y = data.target\n",
        "\n",
        "# Split the dataset into training and test sets\n",
        "X_train, X_test, y_train, y_test = train_test_split(X, y, test_size=0.2, random_state=42)\n",
        "\n",
        "# Initialize and train the 1-nearest neighbor classifier\n",
        "knn_1 = KNeighborsClassifier(n_neighbors=1)\n",
        "knn_1.fit(X_train, y_train)\n",
        "\n",
        "# Predict using the 1-nearest neighbor classifier\n",
        "y_pred_1 = knn_1.predict(X_test)\n",
        "\n",
        "# Calculate accuracy for 1-nearest neighbor\n",
        "accuracy_1 = accuracy_score(y_test, y_pred_1)\n",
        "print(f\"Accuracy of 1-Nearest Neighbor Classifier: {accuracy_1:.2f}\")\n",
        "\n",
        "# Initialize and train the 3-nearest neighbor classifier\n",
        "knn_3 = KNeighborsClassifier(n_neighbors=3)\n",
        "knn_3.fit(X_train, y_train)\n",
        "\n",
        "# Predict using the 3-nearest neighbor classifier\n",
        "y_pred_3 = knn_3.predict(X_test)\n",
        "\n",
        "# Calculate accuracy for 3-nearest neighbor\n",
        "accuracy_3 = accuracy_score(y_test, y_pred_3)\n",
        "print(f\"Accuracy of 3-Nearest Neighbor Classifier: {accuracy_3:.2f}\")\n",
        "\n",
        "# Compare the results\n",
        "if accuracy_1 > accuracy_3:\n",
        "    print(\"The 1-Nearest Neighbor Classifier performed better.\")\n",
        "elif accuracy_1 < accuracy_3:\n",
        "    print(\"The 3-Nearest Neighbor Classifier performed better.\")\n",
        "else:\n",
        "    print(\"Both classifiers performed equally well.\")\n"
      ],
      "metadata": {
        "colab": {
          "base_uri": "https://localhost:8080/"
        },
        "id": "qF317ceE7GxE",
        "outputId": "8ca7bb6b-1205-4477-e4a4-a46456f1ef74"
      },
      "execution_count": null,
      "outputs": [
        {
          "output_type": "stream",
          "name": "stdout",
          "text": [
            "Accuracy of 1-Nearest Neighbor Classifier: 1.00\n",
            "Accuracy of 3-Nearest Neighbor Classifier: 1.00\n",
            "Both classifiers performed equally well.\n"
          ]
        }
      ]
    },
    {
      "cell_type": "code",
      "source": [
        "import numpy as np\n",
        "from sklearn.model_selection import train_test_split\n",
        "from sklearn.datasets import load_iris\n",
        "from sklearn.neighbors import KNeighborsClassifier\n",
        "from sklearn.metrics import accuracy_score\n",
        "\n",
        "# Load the Iris dataset\n",
        "data = load_iris()\n",
        "X = data.data\n",
        "y = data.target\n",
        "\n",
        "def evaluate_knn_with_splits(test_sizes):\n",
        "    results = []\n",
        "    for test_size in test_sizes:\n",
        "        X_train, X_test, y_train, y_test = train_test_split(X, y, test_size=test_size, random_state=42)\n",
        "        knn_1 = KNeighborsClassifier(n_neighbors=1)\n",
        "        knn_1.fit(X_train, y_train)\n",
        "        y_pred_1 = knn_1.predict(X_test)\n",
        "        accuracy_1 = accuracy_score(y_test, y_pred_1)\n",
        "        knn_3 = KNeighborsClassifier(n_neighbors=3)\n",
        "        knn_3.fit(X_train, y_train)\n",
        "        y_pred_3 = knn_3.predict(X_test)\n",
        "        accuracy_3 = accuracy_score(y_test, y_pred_3)\n",
        "        results.append((test_size, accuracy_1, accuracy_3))\n",
        "\n",
        "    return results\n",
        "test_sizes = [0.1, 0.2, 0.3, 0.4, 0.5]\n",
        "results = evaluate_knn_with_splits(test_sizes)\n",
        "\n",
        "# Print results\n",
        "print(\"Test Size | 1-NN Accuracy | 3-NN Accuracy\")\n",
        "print(\"----------------------------------------\")\n",
        "for test_size, accuracy_1, accuracy_3 in results:\n",
        "    print(f\"  {test_size:.2f}   |     {accuracy_1:.2f}     |     {accuracy_3:.2f}\")\n",
        "\n",
        "# Analyze performance trends\n",
        "for test_size, accuracy_1, accuracy_3 in results:\n",
        "    if accuracy_1 > accuracy_3:\n",
        "        print(f\"At test size {test_size:.2f}, 1-NN performed better.\")\n",
        "    elif accuracy_1 < accuracy_3:\n",
        "        print(f\"At test size {test_size:.2f}, 3-NN performed better.\")\n",
        "    else:\n",
        "        print(f\"At test size {test_size:.2f}, both classifiers performed equally well.\")\n"
      ],
      "metadata": {
        "colab": {
          "base_uri": "https://localhost:8080/"
        },
        "id": "qBiHZp497mmO",
        "outputId": "b63888ee-945b-4c71-d4a4-f7af7ebf63a1"
      },
      "execution_count": null,
      "outputs": [
        {
          "output_type": "stream",
          "name": "stdout",
          "text": [
            "Test Size | 1-NN Accuracy | 3-NN Accuracy\n",
            "----------------------------------------\n",
            "  0.10   |     1.00     |     1.00\n",
            "  0.20   |     1.00     |     1.00\n",
            "  0.30   |     1.00     |     1.00\n",
            "  0.40   |     0.98     |     0.98\n",
            "  0.50   |     0.97     |     0.97\n",
            "At test size 0.10, both classifiers performed equally well.\n",
            "At test size 0.20, both classifiers performed equally well.\n",
            "At test size 0.30, both classifiers performed equally well.\n",
            "At test size 0.40, both classifiers performed equally well.\n",
            "At test size 0.50, both classifiers performed equally well.\n"
          ]
        }
      ]
    },
    {
      "cell_type": "code",
      "source": [
        "import numpy as np\n",
        "from sklearn.model_selection import train_test_split\n",
        "from sklearn.datasets import load_digits\n",
        "from sklearn.neighbors import KNeighborsClassifier\n",
        "from sklearn.metrics import accuracy_score\n",
        "\n",
        "data = load_digits()\n",
        "X = data.data\n",
        "y = data.target\n",
        "\n",
        "X_limited = []\n",
        "y_limited = []\n",
        "for digit in range(10):\n",
        "    digit_indices = np.where(y == digit)[0][:50]\n",
        "    X_limited.extend(X[digit_indices])\n",
        "    y_limited.extend(y[digit_indices])\n",
        "X_limited = np.array(X_limited)\n",
        "y_limited = np.array(y_limited)\n",
        "\n",
        "def evaluate_knn_with_splits(test_sizes):\n",
        "    results = []\n",
        "    for test_size in test_sizes:\n",
        "        X_train, X_test, y_train, y_test = train_test_split(X_limited, y_limited, test_size=test_size, random_state=42)\n",
        "\n",
        "        knn_1 = KNeighborsClassifier(n_neighbors=1)\n",
        "        knn_1.fit(X_train, y_train)\n",
        "\n",
        "        y_pred_1 = knn_1.predict(X_test)\n",
        "\n",
        "        accuracy_1 = accuracy_score(y_test, y_pred_1)\n",
        "\n",
        "        knn_3 = KNeighborsClassifier(n_neighbors=3)\n",
        "        knn_3.fit(X_train, y_train)\n",
        "\n",
        "        y_pred_3 = knn_3.predict(X_test)\n",
        "\n",
        "        accuracy_3 = accuracy_score(y_test, y_pred_3)\n",
        "\n",
        "        results.append((test_size, accuracy_1, accuracy_3))\n",
        "\n",
        "    return results\n",
        "\n",
        "test_sizes = [0.1, 0.2, 0.3, 0.4, 0.5]\n",
        "results = evaluate_knn_with_splits(test_sizes)\n",
        "\n",
        "print(\"Test Size | 1-NN Accuracy | 3-NN Accuracy\")\n",
        "print(\"----------------------------------------\")\n",
        "for test_size, accuracy_1, accuracy_3 in results:\n",
        "    print(f\"  {test_size:.2f}   |     {accuracy_1:.2f}     |     {accuracy_3:.2f}\")\n",
        "\n",
        "for test_size, accuracy_1, accuracy_3 in results:\n",
        "    if accuracy_1 > accuracy_3:\n",
        "        print(f\"At test size {test_size:.2f}, 1-NN performed better.\")\n",
        "    elif accuracy_1 < accuracy_3:\n",
        "        print(f\"At test size {test_size:.2f}, 3-NN performed better.\")\n",
        "    else:\n",
        "        print(f\"At test size {test_size:.2f}, both classifiers performed equally well.\")\n"
      ],
      "metadata": {
        "colab": {
          "base_uri": "https://localhost:8080/"
        },
        "id": "3mvzgM9h8tge",
        "outputId": "85caf3c8-d035-4ab4-8fb3-cf24f53085b1"
      },
      "execution_count": null,
      "outputs": [
        {
          "output_type": "stream",
          "name": "stdout",
          "text": [
            "Test Size | 1-NN Accuracy | 3-NN Accuracy\n",
            "----------------------------------------\n",
            "  0.10   |     1.00     |     0.98\n",
            "  0.20   |     1.00     |     0.99\n",
            "  0.30   |     0.99     |     0.98\n",
            "  0.40   |     0.98     |     0.98\n",
            "  0.50   |     0.99     |     0.99\n",
            "At test size 0.10, 1-NN performed better.\n",
            "At test size 0.20, 1-NN performed better.\n",
            "At test size 0.30, 1-NN performed better.\n",
            "At test size 0.40, both classifiers performed equally well.\n",
            "At test size 0.50, both classifiers performed equally well.\n"
          ]
        }
      ]
    }
  ]
}